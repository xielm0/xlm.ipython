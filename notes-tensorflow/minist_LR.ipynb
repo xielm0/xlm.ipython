{
 "cells": [
  {
   "cell_type": "markdown",
   "metadata": {},
   "source": [
    "### minist LR模型"
   ]
  },
  {
   "cell_type": "code",
   "execution_count": 1,
   "metadata": {
    "collapsed": true
   },
   "outputs": [],
   "source": [
    "import tensorflow as tf"
   ]
  },
  {
   "cell_type": "code",
   "execution_count": 2,
   "metadata": {},
   "outputs": [
    {
     "name": "stdout",
     "output_type": "stream",
     "text": [
      "Extracting e:/tmp/minist_data/train-images-idx3-ubyte.gz\n",
      "Extracting e:/tmp/minist_data/train-labels-idx1-ubyte.gz\n",
      "Extracting e:/tmp/minist_data/t10k-images-idx3-ubyte.gz\n",
      "Extracting e:/tmp/minist_data/t10k-labels-idx1-ubyte.gz\n"
     ]
    }
   ],
   "source": [
    "from tensorflow.examples.tutorials.mnist import input_data\n",
    "mnist = input_data.read_data_sets(\"e:/tmp/minist_data/\", one_hot=True)"
   ]
  },
  {
   "cell_type": "code",
   "execution_count": 3,
   "metadata": {
    "collapsed": true
   },
   "outputs": [],
   "source": [
    "# 超参数设定\n",
    "learning_rate = 0.01\n",
    "training_epochs = 25\n",
    "batch_size = 100\n",
    "display_step = 1\n",
    "\n",
    "# tf 计算图输入\n",
    "x = tf.placeholder(tf.float32, [None, 784]) # mnist data image of shape 28*28=784\n",
    "y = tf.placeholder(tf.float32, [None, 10]) # 0-9 digits recognition => 10 classes\n",
    "\n",
    "# 设定模型权重\n",
    "W = tf.Variable(tf.zeros([784, 10]))\n",
    "b = tf.Variable(tf.zeros([10]))\n",
    "\n",
    "# 构建softmax模型\n",
    "pred = tf.nn.softmax(tf.matmul(x, W) + b) # Softmax\n",
    "\n",
    "# 计算交叉熵损失\n",
    "cross_entropy=-tf.reduce_sum(y*tf.log(pred), reduction_indices=1)#, reduction_indices=1\n",
    "cost = tf.reduce_mean(cross_entropy)\n",
    "# 梯度下降\n",
    "optimizer = tf.train.GradientDescentOptimizer(learning_rate).minimize(cross_entropy)\n",
    "\n",
    "# 初始化向量\n",
    "init = tf.global_variables_initializer()"
   ]
  },
  {
   "cell_type": "code",
   "execution_count": 22,
   "metadata": {},
   "outputs": [
    {
     "name": "stdout",
     "output_type": "stream",
     "text": [
      "[[ 0.          0.          0.          0.          0.          0.          0.\n",
      "   0.          0.          0.          0.          0.          0.          0.\n",
      "   0.          0.          0.          0.          0.          0.          0.\n",
      "   0.          0.          0.          0.          0.          0.          0.\n",
      "   0.          0.          0.          0.          0.          0.          0.\n",
      "   0.          0.          0.          0.          0.          0.          0.\n",
      "   0.          0.          0.          0.          0.          0.          0.\n",
      "   0.          0.          0.          0.          0.          0.          0.\n",
      "   0.          0.          0.          0.          0.          0.          0.\n",
      "   0.          0.          0.          0.          0.          0.          0.\n",
      "   0.          0.          0.          0.          0.          0.          0.\n",
      "   0.          0.          0.          0.          0.          0.          0.\n",
      "   0.          0.          0.          0.          0.          0.          0.\n",
      "   0.          0.          0.          0.          0.          0.          0.\n",
      "   0.          0.          0.          0.          0.          0.          0.\n",
      "   0.          0.          0.          0.          0.          0.          0.\n",
      "   0.          0.          0.          0.          0.          0.          0.\n",
      "   0.          0.          0.          0.          0.          0.          0.\n",
      "   0.          0.          0.          0.          0.          0.          0.\n",
      "   0.          0.          0.          0.          0.          0.          0.\n",
      "   0.          0.          0.          0.          0.          0.          0.\n",
      "   0.          0.          0.          0.          0.          0.18431373\n",
      "   0.60784316  0.99215692  1.          0.90588242  0.41960788  0.          0.\n",
      "   0.          0.          0.          0.          0.          0.          0.\n",
      "   0.          0.          0.          0.          0.          0.          0.\n",
      "   0.          0.          0.          0.          0.00784314  0.45882356\n",
      "   0.91764712  0.99607849  0.87843144  0.56862748  0.98039222  0.98431379\n",
      "   0.29019609  0.          0.          0.          0.          0.          0.\n",
      "   0.          0.          0.          0.          0.          0.          0.\n",
      "   0.          0.          0.          0.          0.          0.\n",
      "   0.37254903  0.99215692  0.99215692  0.65098041  0.00784314  0.\n",
      "   0.37647063  0.99215692  0.71764708  0.          0.          0.          0.\n",
      "   0.          0.          0.          0.          0.          0.          0.\n",
      "   0.          0.          0.          0.          0.          0.          0.\n",
      "   0.          0.50980395  0.99607849  0.8588236   0.03137255  0.          0.\n",
      "   0.03529412  0.86274517  0.85098046  0.05490196  0.          0.          0.\n",
      "   0.          0.          0.          0.          0.          0.          0.\n",
      "   0.          0.          0.          0.          0.          0.          0.\n",
      "   0.          0.50980395  0.99215692  0.83529419  0.          0.          0.\n",
      "   0.          0.83921576  0.99215692  0.11764707  0.          0.          0.\n",
      "   0.          0.          0.          0.          0.          0.          0.\n",
      "   0.          0.          0.          0.          0.          0.          0.\n",
      "   0.          0.50588238  0.99215692  0.83529419  0.          0.          0.\n",
      "   0.          0.83921576  0.99215692  0.11764707  0.          0.          0.\n",
      "   0.          0.          0.          0.          0.          0.          0.\n",
      "   0.          0.          0.          0.          0.          0.          0.\n",
      "   0.          0.38039219  0.99215692  0.83529419  0.          0.          0.\n",
      "   0.          0.83921576  0.99215692  0.11764707  0.          0.          0.\n",
      "   0.          0.          0.          0.          0.          0.          0.\n",
      "   0.          0.          0.          0.          0.          0.          0.\n",
      "   0.          0.05490196  0.7843138   0.92549026  0.12941177  0.          0.\n",
      "   0.19215688  0.92549026  0.84313732  0.05490196  0.          0.          0.\n",
      "   0.          0.          0.          0.          0.          0.          0.\n",
      "   0.          0.          0.          0.          0.          0.          0.\n",
      "   0.          0.          0.33725491  0.99215692  0.67058825  0.00784314\n",
      "   0.15686275  0.76470596  0.99215692  0.57254905  0.          0.          0.\n",
      "   0.          0.          0.          0.          0.          0.          0.\n",
      "   0.          0.          0.          0.          0.          0.          0.\n",
      "   0.          0.          0.          0.00784314  0.70980394  0.99215692\n",
      "   0.51372552  0.83529419  0.99215692  0.627451    0.00784314  0.          0.\n",
      "   0.          0.          0.          0.          0.          0.          0.\n",
      "   0.          0.          0.          0.          0.          0.          0.\n",
      "   0.          0.          0.          0.          0.          0.23529413\n",
      "   0.99215692  0.99215692  0.99215692  0.64313728  0.03137255  0.          0.\n",
      "   0.          0.          0.          0.          0.          0.          0.\n",
      "   0.          0.          0.          0.          0.          0.          0.\n",
      "   0.          0.          0.          0.          0.          0.\n",
      "   0.09803922  0.90196085  0.99215692  0.99215692  0.37254903  0.          0.\n",
      "   0.          0.          0.          0.          0.          0.          0.\n",
      "   0.          0.          0.          0.          0.          0.          0.\n",
      "   0.          0.          0.          0.          0.          0.\n",
      "   0.02352941  0.66666669  0.99215692  0.99215692  0.99215692  0.69803923\n",
      "   0.          0.          0.          0.          0.          0.          0.\n",
      "   0.          0.          0.          0.          0.          0.          0.\n",
      "   0.          0.          0.          0.          0.          0.          0.\n",
      "   0.          0.44313729  0.99215692  0.99215692  0.99215692  0.99215692\n",
      "   0.50196081  0.          0.          0.          0.          0.          0.\n",
      "   0.          0.          0.          0.          0.          0.          0.\n",
      "   0.          0.          0.          0.          0.          0.          0.\n",
      "   0.          0.09803922  0.85490203  0.91764712  0.87843144  0.99607849\n",
      "   0.99215692  0.33333334  0.          0.          0.          0.          0.\n",
      "   0.          0.          0.          0.          0.          0.          0.\n",
      "   0.          0.          0.          0.          0.          0.          0.\n",
      "   0.          0.          0.50588238  0.99215692  0.83529419  0.76078439\n",
      "   0.99215692  0.85098046  0.          0.          0.          0.          0.\n",
      "   0.          0.          0.          0.          0.          0.          0.\n",
      "   0.          0.          0.          0.          0.          0.          0.\n",
      "   0.          0.          0.          0.50980395  0.99607849  0.82745105\n",
      "   0.97647065  0.99607849  0.58431375  0.          0.          0.          0.\n",
      "   0.          0.          0.          0.          0.          0.          0.\n",
      "   0.          0.          0.          0.          0.          0.          0.\n",
      "   0.          0.          0.          0.          0.50980395  0.99607849\n",
      "   0.99215692  0.99607849  0.99215692  0.29411766  0.          0.          0.\n",
      "   0.          0.          0.          0.          0.          0.          0.\n",
      "   0.          0.          0.          0.          0.          0.          0.\n",
      "   0.          0.          0.          0.          0.          0.41960788\n",
      "   0.9450981   0.99607849  0.99607849  0.74509805  0.08627451  0.          0.\n",
      "   0.          0.          0.          0.          0.          0.          0.\n",
      "   0.          0.          0.          0.          0.          0.          0.\n",
      "   0.          0.          0.          0.          0.          0.          0.\n",
      "   0.28627452  0.90980399  0.45882356  0.00392157  0.          0.          0.\n",
      "   0.          0.          0.          0.          0.          0.          0.\n",
      "   0.          0.          0.          0.          0.          0.          0.\n",
      "   0.          0.          0.          0.          0.          0.          0.\n",
      "   0.          0.          0.          0.          0.          0.          0.\n",
      "   0.          0.          0.          0.          0.          0.          0.\n",
      "   0.          0.          0.          0.          0.          0.          0.\n",
      "   0.          0.          0.          0.          0.          0.          0.\n",
      "   0.          0.          0.          0.          0.          0.          0.\n",
      "   0.          0.          0.          0.          0.          0.          0.\n",
      "   0.          0.          0.          0.          0.          0.          0.\n",
      "   0.          0.          0.          0.          0.          0.          0.\n",
      "   0.          0.          0.          0.          0.          0.          0.\n",
      "   0.          0.          0.          0.          0.          0.          0.\n",
      "   0.          0.          0.        ]]\n",
      "[[ 0.  0.  0. ...,  0.  0.  0.]\n",
      " [ 0.  0.  0. ...,  0.  0.  0.]\n",
      " [ 0.  0.  0. ...,  0.  0.  0.]\n",
      " ..., \n",
      " [ 0.  0.  0. ...,  0.  0.  0.]\n",
      " [ 0.  0.  0. ...,  0.  0.  0.]\n",
      " [ 0.  0.  0. ...,  0.  0.  0.]]\n",
      "[[ 0.1  0.1  0.1  0.1  0.1  0.1  0.1  0.1  0.1  0.1]]\n"
     ]
    }
   ],
   "source": [
    "with tf.Session() as sess:\n",
    "    sess.run(init)\n",
    "    batch_xs, batch_ys = mnist.train.next_batch(1)     \n",
    "    print(batch_xs)    \n",
    "    print(sess.run(W))\n",
    "    print(sess.run(pred,feed_dict={x:batch_xs}))"
   ]
  },
  {
   "cell_type": "code",
   "execution_count": 27,
   "metadata": {},
   "outputs": [
    {
     "name": "stdout",
     "output_type": "stream",
     "text": [
      "0.9125\n"
     ]
    }
   ],
   "source": [
    "sess = tf.Session()\n",
    "sess.run(init) \n",
    "for i in range(1000):\n",
    "    batch_xs, batch_ys = mnist.train.next_batch(100) \n",
    "    sess.run(optimizer, feed_dict={x: batch_xs, y: batch_ys})\n",
    "\n",
    "# 测试一下模型    \n",
    "correct_prediction = tf.equal(tf.argmax(pred,1), tf.argmax(y,1))\n",
    "accuracy = tf.reduce_mean(tf.cast(correct_prediction, \"float\"))\n",
    "print(sess.run(accuracy, feed_dict={x: mnist.test.images, y: mnist.test.labels}))\n",
    "sess.close()        "
   ]
  },
  {
   "cell_type": "code",
   "execution_count": 25,
   "metadata": {
    "scrolled": true
   },
   "outputs": [
    {
     "name": "stdout",
     "output_type": "stream",
     "text": [
      "Epoch: 0001 cost= 0.424486263\n",
      "Epoch: 0002 cost= 0.318307623\n",
      "Epoch: 0003 cost= 0.308324071\n",
      "Epoch: 0004 cost= 0.295592192\n",
      "Epoch: 0005 cost= 0.292587885\n",
      "Epoch: 0006 cost= 0.287549449\n",
      "Epoch: 0007 cost= 0.284818509\n",
      "Epoch: 0008 cost= 0.280330517\n",
      "Epoch: 0009 cost= 0.282621146\n",
      "Epoch: 0010 cost= 0.279778807\n",
      "Epoch: 0011 cost= 0.275145631\n",
      "Epoch: 0012 cost= 0.277542021\n",
      "Epoch: 0013 cost= 0.270256508\n",
      "Epoch: 0014 cost= 0.278202351\n",
      "Epoch: 0015 cost= 0.267809457\n",
      "Epoch: 0016 cost= 0.274284575\n",
      "Epoch: 0017 cost= 0.275298503\n",
      "Epoch: 0018 cost= 0.264174652\n",
      "Epoch: 0019 cost= 0.270567275\n",
      "Epoch: 0020 cost= 0.266721941\n",
      "Epoch: 0021 cost= 0.270648077\n",
      "Epoch: 0022 cost= 0.267736084\n",
      "Epoch: 0023 cost= 0.264870979\n",
      "Epoch: 0024 cost= 0.261442985\n",
      "Epoch: 0025 cost= 0.269118715\n",
      "Optimization Finished!\n",
      "Accuracy: 0.901667\n"
     ]
    }
   ],
   "source": [
    "with tf.Session() as sess:\n",
    "    sess.run(init)\n",
    "\n",
    "    # 多次迭代和更新\n",
    "    for epoch in range(25):\n",
    "        avg_cost = 0.\n",
    "        total_batch = int(mnist.train.num_examples/batch_size)\n",
    "        # 多个batches循环\n",
    "        for i in range(total_batch):\n",
    "            batch_xs, batch_ys = mnist.train.next_batch(batch_size)\n",
    "            # 用1个batch的数据去fit模型\n",
    "            _, c = sess.run([optimizer, cost], feed_dict={x: batch_xs, y: batch_ys})\n",
    "            # 计算平均损失\n",
    "            avg_cost += c / total_batch\n",
    "        # 输出日志\n",
    "        if (epoch+1) % display_step == 0:\n",
    "            print(\"Epoch:\", '%04d' % (epoch+1), \"cost=\", \"{:.9f}\".format(avg_cost))\n",
    "\n",
    "    print (\"Optimization Finished!\")\n",
    "\n",
    "    # 测试一下模型\n",
    "    correct_prediction = tf.equal(tf.argmax(pred, 1), tf.argmax(y, 1))\n",
    "    # 计算3000个样本上的准确率\n",
    "    accuracy = tf.reduce_mean(tf.cast(correct_prediction, tf.float32))\n",
    "    print (\"Accuracy:\", accuracy.eval({x: mnist.test.images[:3000], y: mnist.test.labels[:3000]}))"
   ]
  },
  {
   "cell_type": "code",
   "execution_count": 6,
   "metadata": {},
   "outputs": [
    {
     "name": "stdout",
     "output_type": "stream",
     "text": [
      "(100, 784)\n"
     ]
    }
   ],
   "source": [
    "train_x, train_y = mnist.train.next_batch(batch_size)\n",
    "print(train_x.shape)"
   ]
  },
  {
   "cell_type": "code",
   "execution_count": 11,
   "metadata": {
    "collapsed": true
   },
   "outputs": [],
   "source": [
    "sess=tf.Session()"
   ]
  },
  {
   "cell_type": "code",
   "execution_count": 23,
   "metadata": {},
   "outputs": [
    {
     "name": "stdout",
     "output_type": "stream",
     "text": [
      "[ 0.65007764 -0.61529297]\n"
     ]
    }
   ],
   "source": [
    "x=tf.random_normal([2,3])\n",
    "y=tf.reduce_mean(x,reduction_indices=1)\n",
    "print(sess.run(y))"
   ]
  },
  {
   "cell_type": "code",
   "execution_count": 27,
   "metadata": {},
   "outputs": [
    {
     "name": "stdout",
     "output_type": "stream",
     "text": [
      "[ 0.65076315  0.9750036   0.04884031]\n"
     ]
    }
   ],
   "source": [
    "x=tf.random_normal([2,3])\n",
    "y=tf.reduce_mean(x,reduction_indices=0)\n",
    "print(sess.run(y))"
   ]
  },
  {
   "cell_type": "code",
   "execution_count": 25,
   "metadata": {},
   "outputs": [
    {
     "name": "stdout",
     "output_type": "stream",
     "text": [
      "[-0.28888819  0.08454057]\n"
     ]
    }
   ],
   "source": [
    "x=tf.random_normal([2,3,2])\n",
    "y=tf.reduce_mean(x,reduction_indices=[1,2])\n",
    "print(sess.run(y))"
   ]
  },
  {
   "cell_type": "code",
   "execution_count": 28,
   "metadata": {
    "collapsed": true
   },
   "outputs": [],
   "source": [
    "sess.close()"
   ]
  },
  {
   "cell_type": "code",
   "execution_count": null,
   "metadata": {
    "collapsed": true
   },
   "outputs": [],
   "source": []
  }
 ],
 "metadata": {
  "kernelspec": {
   "display_name": "Python 3",
   "language": "python",
   "name": "python3"
  },
  "language_info": {
   "codemirror_mode": {
    "name": "ipython",
    "version": 3
   },
   "file_extension": ".py",
   "mimetype": "text/x-python",
   "name": "python",
   "nbconvert_exporter": "python",
   "pygments_lexer": "ipython3",
   "version": "3.5.3"
  }
 },
 "nbformat": 4,
 "nbformat_minor": 2
}
