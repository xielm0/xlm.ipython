{
 "cells": [
  {
   "cell_type": "code",
   "execution_count": null,
   "metadata": {
    "collapsed": true
   },
   "outputs": [],
   "source": [
    "#一. 什么是tfdbg?\n",
    "#经过之前的学习，我们发现构建一个TensorFlow 项目需要经历两个步骤：\n",
    "#1. 设计图\n",
    "#2. 使用 Session.run() 运行图\n",
    "#如果在第二阶段出现了错误和 bug，我们很难进行调试，因为我们无法在运行时断点进入图中（封闭的）。所以，一个专用的运行环境调试器（debugger）是目前 TensorFlow 用户所急需的工具。\n",
    "#因此，伴随着Tensorflow r1.0的发布，tfdbg这一调试器也随之发布\n",
    "\n",
    "\n",
    "#二. tensorflow自带性能分析工具\n",
    "#参见：http://stackoverflow.com/questions/37751739/tensorflow-code-optimization-strategy "
   ]
  },
  {
   "cell_type": "code",
   "execution_count": null,
   "metadata": {
    "collapsed": false
   },
   "outputs": [
    {
     "name": "stdout",
     "output_type": "stream",
     "text": [
      "CUPTI的so文件位置变了, 直接运行本程序会产生exception！！！ http://blog.csdn.net/rtygbwwwerr/article/details/51605835\n",
      "解决方法：我是拷贝了一下/usr/local/cuda/extras/CUPTI/lib64对应3个的文件到 /usr/local/cuda/lib64 中\n"
     ]
    }
   ],
   "source": [
    "# coding=utf-8  \n",
    "''''' \n",
    "测试Tensorflow的性能分析工具; \n",
    "该工具也可以检测变量的位置，， \n",
    " \n",
    "参考网址：http://stackoverflow.com/questions/37751739/tensorflow-code-optimization-strategy \n",
    " \n",
    "Created on Mar 30, 2017 \n",
    "@author: colinliang \n",
    "'''  \n",
    "from __future__ import absolute_import  \n",
    "from __future__ import division  \n",
    "from __future__ import print_function  \n",
    "import tensorflow as tf  \n",
    "from tensorflow.python.client import timeline  \n",
    "if __name__ == '__main__':  \n",
    "    run_options = tf.RunOptions(trace_level=tf.RunOptions.FULL_TRACE)  \n",
    "    run_metadata = tf.RunMetadata()  \n",
    "    sess = tf.Session()  \n",
    "    print(u'CUPTI的so文件位置变了, 直接运行本程序会产生exception！！！ http://blog.csdn.net/rtygbwwwerr/article/details/51605835')  \n",
    "    print(u'解决方法：我是拷贝了一下/usr/local/cuda/extras/CUPTI/lib64对应3个的文件到 /usr/local/cuda/lib64 中')  \n",
    "    from tensorflow.python.ops import partitioned_variables  \n",
    "    partitioner = partitioned_variables.variable_axis_size_partitioner(max_shard_bytes=512)  # 注意这里是分割的字节数，而不是float的数量  \n",
    "    dim = 2  \n",
    "      \n",
    "#     with tf.device('/cpu:0'):  \n",
    "#         embedding_var=tf.get_variable('embedding_var', shape=[600,dim],partitioner=partitioner, dtype=tf.float32)  \n",
    "    embedding_var = tf.get_variable('embedding_var', shape=[200, dim], partitioner=partitioner, dtype=tf.float32)   \n",
    "      \n",
    "    w = tf.get_variable('w', shape=[dim, 10], dtype=tf.float32)  \n",
    "      \n",
    "#     tf.PartitionedVariable  # 如果进行了partition，变量类型不是tf.Variable，而是，由一组tf.Variable组成的tf.PartitionedVariable  \n",
    "    sess.run(tf.global_variables_initializer())  \n",
    "    print('embedding_var: %s' % embedding_var)  \n",
    "#     print('device of embedding_var: %s'% embedding_var.device)  #对于单个变量，可以这么打印device，但只针对显式指定device的变量有效。。。  \n",
    "  \n",
    "    r = tf.nn.embedding_lookup(embedding_var, [0])  \n",
    "    r = tf.matmul(r, w)  \n",
    "    print(r)  \n",
    "    sess.run(r, options=run_options, run_metadata=run_metadata)  \n",
    "          \n",
    "#     print(run_metadata)  \n",
    "    tl = timeline.Timeline(run_metadata.step_stats)  \n",
    "    ctf = tl.generate_chrome_trace_format()  \n",
    "    tracing_log='D:\\workflow\\code\\tensorflow\\timeline.json'  \n",
    "    with open(tracing_log, 'w') as f:  \n",
    "        f.write(ctf)  \n",
    "    print('DONE')  \n",
    "    print('在chrome中打开：   chrome://tracing  ， 再load %s 即可查看运行日志'%tracing_log)  \n",
    "    exit(0)  "
   ]
  },
  {
   "cell_type": "code",
   "execution_count": null,
   "metadata": {
    "collapsed": true
   },
   "outputs": [],
   "source": []
  }
 ],
 "metadata": {
  "kernelspec": {
   "display_name": "Python 2",
   "language": "python",
   "name": "python2"
  },
  "language_info": {
   "codemirror_mode": {
    "name": "ipython",
    "version": 2
   },
   "file_extension": ".py",
   "mimetype": "text/x-python",
   "name": "python",
   "nbconvert_exporter": "python",
   "pygments_lexer": "ipython2",
   "version": "2.7.13"
  }
 },
 "nbformat": 4,
 "nbformat_minor": 2
}
