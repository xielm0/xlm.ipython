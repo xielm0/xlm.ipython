{
 "cells": [
  {
   "cell_type": "markdown",
   "metadata": {},
   "source": [
    "# 用卷积神经网络做图像识别\n",
    "这个ipython notebook会搭建一个2层的卷积神经网络，然后在CIFAR-10是上测验效果。\n",
    "\n",
    "我们在文件`nn/classifiers/convnet.py`中实现了`two_layer_convnet`函数，可以对2层的卷积神经网络计算损失和梯度。需要稍微注意一下的是，这里用的是`nn/layer_utils.py`文件中定义的\"sandwich\"层(即把卷积层，激励层，全连接层合在一个层里了)。"
   ]
  },
  {
   "cell_type": "code",
   "execution_count": 1,
   "metadata": {},
   "outputs": [],
   "source": [
    "# 准备工作\n",
    "\n",
    "import numpy as np\n",
    "import matplotlib.pyplot as plt\n",
    "from nn.classifier_trainer import ClassifierTrainer\n",
    "from nn.gradient_check import eval_numerical_gradient\n",
    "from nn.classifiers.convnet import *\n",
    "\n",
    "%matplotlib inline\n",
    "plt.rcParams['figure.figsize'] = (10.0, 8.0) # set default size of plots\n",
    "plt.rcParams['image.interpolation'] = 'nearest'\n",
    "plt.rcParams['image.cmap'] = 'gray'\n",
    "\n",
    "# for auto-reloading external modules\n",
    "# see http://stackoverflow.com/questions/1907993/autoreload-of-modules-in-ipython\n",
    "%load_ext autoreload\n",
    "%autoreload 2\n",
    "\n",
    "def rel_error(x, y):\n",
    "    \"\"\" returns relative error \"\"\"\n",
    "    return np.max(np.abs(x - y) / (np.maximum(1e-18, np.abs(x) + np.abs(y))))\n"
   ]
  },
  {
   "cell_type": "code",
   "execution_count": 3,
   "metadata": {},
   "outputs": [
    {
     "name": "stdout",
     "output_type": "stream",
     "text": [
      "Train data shape:  (49000, 3, 32, 32)\n",
      "Train labels shape:  (49000,)\n",
      "Validation data shape:  (1000, 3, 32, 32)\n",
      "Validation labels shape:  (1000,)\n",
      "Test data shape:  (1000, 32, 32, 3)\n",
      "Test labels shape:  (1000,)\n"
     ]
    }
   ],
   "source": [
    "from nn.data_utils import load_CIFAR10\n",
    "\n",
    "def get_CIFAR10_data(num_training=49000, num_validation=1000, num_test=1000):\n",
    "    \"\"\"\n",
    "    载入CIFAR-10数据集并做预处理 \n",
    "    \"\"\"\n",
    "    # Load the raw CIFAR-10 data\n",
    "    cifar10_dir = 'nn/datasets/cifar-10-batches-py'\n",
    "    X_train, y_train, X_test, y_test = load_CIFAR10(cifar10_dir)\n",
    "        \n",
    "    # Subsample the data\n",
    "    mask = range(num_training, num_training + num_validation)\n",
    "    X_val = X_train[mask]\n",
    "    y_val = y_train[mask]\n",
    "    mask = range(num_training)\n",
    "    X_train = X_train[mask]\n",
    "    y_train = y_train[mask]\n",
    "    mask = range(num_test)\n",
    "    X_test = X_test[mask]\n",
    "    y_test = y_test[mask]\n",
    "\n",
    "    # Normalize the data: subtract the mean image\n",
    "    mean_image = np.mean(X_train, axis=0)\n",
    "    X_train -= mean_image\n",
    "    X_val -= mean_image\n",
    "    X_test -= mean_image\n",
    "    \n",
    "    # Transpose so that channels come first\n",
    "    X_train = X_train.transpose(0, 3, 1, 2).copy()\n",
    "    X_val = X_val.transpose(0, 3, 1, 2).copy()\n",
    "    x_test = X_test.transpose(0, 3, 1, 2).copy()\n",
    "\n",
    "    return X_train, y_train, X_val, y_val, X_test, y_test\n",
    "\n",
    "\n",
    "# Invoke the above function to get our data.\n",
    "X_train, y_train, X_val, y_val, X_test, y_test = get_CIFAR10_data()\n",
    "print 'Train data shape: ', X_train.shape\n",
    "print 'Train labels shape: ', y_train.shape\n",
    "print 'Validation data shape: ', X_val.shape\n",
    "print 'Validation labels shape: ', y_val.shape\n",
    "print 'Test data shape: ', X_test.shape\n",
    "print 'Test labels shape: ', y_test.shape"
   ]
  },
  {
   "cell_type": "markdown",
   "metadata": {},
   "source": [
    "# 查看一下损失函数计算准确度\n",
    "搭建完一个神经网络之后，非常重要的一件事情是，我们需要检查一下我们的损失loss是否计算正确。简单的一个办法就是如果我们做分类，最后用的softmax分类，那我们给定随机权重值的时候对应C个类别的分类，loss应该差不多是log(C)，当然加了正则化项之后这个值会变大一点。 "
   ]
  },
  {
   "cell_type": "code",
   "execution_count": 12,
   "metadata": {},
   "outputs": [
    {
     "name": "stdout",
     "output_type": "stream",
     "text": [
      "Sanity check loss (no regularization):  2.30264679361\n",
      "Sanity check loss (with regularization):  2.34471165979\n"
     ]
    }
   ],
   "source": [
    "# 记得pip安装一下Cpython，然后在nn目录下执行python setup.py build_ext --inplace\n",
    "model = init_two_layer_convnet()\n",
    "\n",
    "X = np.random.randn(100, 3, 32, 32)\n",
    "y = np.random.randint(10, size=100)\n",
    "\n",
    "loss, _ = two_layer_convnet(X, model, y, reg=0)\n",
    "\n",
    "# Sanity check: Loss should be about log(10) = 2.3026\n",
    "print 'Sanity check loss (no regularization): ', loss\n",
    "\n",
    "# Sanity check: Loss should go up when you add regularization\n",
    "loss, _ = two_layer_convnet(X, model, y, reg=1)\n",
    "print 'Sanity check loss (with regularization): ', loss"
   ]
  },
  {
   "cell_type": "markdown",
   "metadata": {},
   "source": [
    "# 梯度检验\n",
    "需要验证一下我们对于梯度的实现是否正确，这一步至关重要，不然BP算法很可能会拿到错误的梯度，那迭代就进行不下去啦。"
   ]
  },
  {
   "cell_type": "code",
   "execution_count": 13,
   "metadata": {},
   "outputs": [
    {
     "name": "stdout",
     "output_type": "stream",
     "text": [
      "W1 max relative error: 9.121148e-02\n",
      "W2 max relative error: 3.740758e-06\n",
      "b1 max relative error: 3.634198e-08\n",
      "b2 max relative error: 8.522420e-10\n"
     ]
    }
   ],
   "source": [
    "num_inputs = 2\n",
    "input_shape = (3, 16, 16)\n",
    "reg = 0.0\n",
    "num_classes = 10\n",
    "X = np.random.randn(num_inputs, *input_shape)\n",
    "y = np.random.randint(num_classes, size=num_inputs)\n",
    "\n",
    "model = init_two_layer_convnet(num_filters=3, filter_size=3, input_shape=input_shape)\n",
    "loss, grads = two_layer_convnet(X, model, y)\n",
    "for param_name in sorted(grads):\n",
    "    f = lambda _: two_layer_convnet(X, model, y)[0]\n",
    "    param_grad_num = eval_numerical_gradient(f, model[param_name], verbose=False, h=1e-6)\n",
    "    e = rel_error(param_grad_num, grads[param_name])\n",
    "    print '%s max relative error: %e' % (param_name, rel_error(param_grad_num, grads[param_name]))"
   ]
  },
  {
   "cell_type": "markdown",
   "metadata": {},
   "source": [
    "# 先看看小样本集上是否可以完全拟合\n",
    "要看看自己实现是否正确，一个小技巧是先看看在小样本集上是否可以完全拟合，当然，因为是在训练集上完全拟合，测试集上的准确率可能会低一截。"
   ]
  },
  {
   "cell_type": "code",
   "execution_count": 14,
   "metadata": {},
   "outputs": [
    {
     "name": "stdout",
     "output_type": "stream",
     "text": [
      "starting iteration  0\n",
      "Finished epoch 0 / 10: cost 2.301550, train: 0.160000, val 0.123000, lr 1.000000e-04\n",
      "Finished epoch 1 / 10: cost 2.266975, train: 0.280000, val 0.141000, lr 9.500000e-05\n",
      "Finished epoch 2 / 10: cost 1.886672, train: 0.280000, val 0.146000, lr 9.025000e-05\n",
      "Finished epoch 3 / 10: cost 1.621464, train: 0.500000, val 0.186000, lr 8.573750e-05\n",
      "Finished epoch 4 / 10: cost 1.891602, train: 0.540000, val 0.201000, lr 8.145062e-05\n",
      "Finished epoch 5 / 10: cost 1.860925, train: 0.440000, val 0.149000, lr 7.737809e-05\n",
      "Finished epoch 6 / 10: cost 1.036989, train: 0.740000, val 0.171000, lr 7.350919e-05\n",
      "Finished epoch 7 / 10: cost 0.975366, train: 0.760000, val 0.181000, lr 6.983373e-05\n",
      "Finished epoch 8 / 10: cost 0.790765, train: 0.780000, val 0.173000, lr 6.634204e-05\n",
      "Finished epoch 9 / 10: cost 0.294475, train: 0.860000, val 0.164000, lr 6.302494e-05\n",
      "Finished epoch 10 / 10: cost 0.249152, train: 0.860000, val 0.151000, lr 5.987369e-05\n",
      "finished optimization. best validation accuracy: 0.201000\n"
     ]
    }
   ],
   "source": [
    "# 用2层的卷积神经网络在50个样本上训练\n",
    "\n",
    "model = init_two_layer_convnet()\n",
    "trainer = ClassifierTrainer()\n",
    "best_model, loss_history, train_acc_history, val_acc_history = trainer.train(\n",
    "          X_train[:50], y_train[:50], X_val, y_val, model, two_layer_convnet,\n",
    "          reg=0.001, momentum=0.9, learning_rate=0.0001, batch_size=10, num_epochs=10,\n",
    "          verbose=True)"
   ]
  },
  {
   "cell_type": "markdown",
   "metadata": {},
   "source": [
    "咱们把上面过程的loss，以及训练集和交叉验证集上的准确率画出来，应该可以看到“过拟合”的情况"
   ]
  },
  {
   "cell_type": "code",
   "execution_count": 15,
   "metadata": {},
   "outputs": [
    {
     "data": {
      "image/png": "[encoded data removed]",
      "text/plain": [
       "<matplotlib.figure.Figure at 0x1133a5290>"
      ]
     },
     "metadata": {},
     "output_type": "display_data"
    }
   ],
   "source": [
    "plt.subplot(2, 1, 1)\n",
    "plt.plot(loss_history)\n",
    "plt.xlabel('iteration')\n",
    "plt.ylabel('loss')\n",
    "\n",
    "plt.subplot(2, 1, 2)\n",
    "plt.plot(train_acc_history)\n",
    "plt.plot(val_acc_history)\n",
    "plt.legend(['train', 'val'], loc='upper left')\n",
    "plt.xlabel('epoch')\n",
    "plt.ylabel('accuracy')\n",
    "plt.show()"
   ]
  },
  {
   "cell_type": "markdown",
   "metadata": {},
   "source": [
    "# 开始训练吧\n",
    "既然之前都已经完成整个卷积神经网络的过程，那大家就调用一下实现了的卷积神经网络，在CIFAR-10数据集上试验一把吧，按理来说你应该可以拿到50%+的准确率。"
   ]
  },
  {
   "cell_type": "code",
   "execution_count": 16,
   "metadata": {},
   "outputs": [
    {
     "name": "stdout",
     "output_type": "stream",
     "text": [
      "starting iteration  0\n",
      "Finished epoch 0 / 1: cost 2.309007, train: 0.092000, val 0.092000, lr 1.000000e-04\n",
      "Finished epoch 0 / 1: cost 1.835443, train: 0.282000, val 0.317000, lr 1.000000e-04\n",
      "Finished epoch 0 / 1: cost 1.859416, train: 0.374000, val 0.396000, lr 1.000000e-04\n",
      "Finished epoch 0 / 1: cost 1.682609, train: 0.436000, val 0.433000, lr 1.000000e-04\n",
      "Finished epoch 0 / 1: cost 1.790532, train: 0.393000, val 0.402000, lr 1.000000e-04\n",
      "Finished epoch 0 / 1: cost 1.556617, train: 0.423000, val 0.438000, lr 1.000000e-04\n",
      "Finished epoch 0 / 1: cost 1.876593, train: 0.391000, val 0.401000, lr 1.000000e-04\n",
      "Finished epoch 0 / 1: cost 1.659644, train: 0.467000, val 0.433000, lr 1.000000e-04\n",
      "Finished epoch 0 / 1: cost 1.821347, train: 0.426000, val 0.454000, lr 1.000000e-04\n",
      "Finished epoch 0 / 1: cost 2.003791, train: 0.468000, val 0.489000, lr 1.000000e-04\n",
      "starting iteration  500\n",
      "Finished epoch 0 / 1: cost 1.912581, train: 0.471000, val 0.432000, lr 1.000000e-04\n",
      "Finished epoch 0 / 1: cost 1.837869, train: 0.483000, val 0.481000, lr 1.000000e-04\n",
      "Finished epoch 0 / 1: cost 1.762528, train: 0.461000, val 0.423000, lr 1.000000e-04\n",
      "Finished epoch 0 / 1: cost 1.468218, train: 0.475000, val 0.455000, lr 1.000000e-04\n",
      "Finished epoch 0 / 1: cost 1.990751, train: 0.497000, val 0.483000, lr 1.000000e-04\n",
      "Finished epoch 0 / 1: cost 1.200235, train: 0.478000, val 0.501000, lr 1.000000e-04\n",
      "Finished epoch 0 / 1: cost 1.054466, train: 0.480000, val 0.467000, lr 1.000000e-04\n",
      "Finished epoch 0 / 1: cost 1.536348, train: 0.432000, val 0.432000, lr 1.000000e-04\n",
      "Finished epoch 0 / 1: cost 1.641137, train: 0.511000, val 0.520000, lr 1.000000e-04\n",
      "Finished epoch 0 / 1: cost 1.804483, train: 0.460000, val 0.439000, lr 1.000000e-04\n",
      "Finished epoch 1 / 1: cost 1.819357, train: 0.485000, val 0.482000, lr 9.500000e-05\n",
      "finished optimization. best validation accuracy: 0.520000\n"
     ]
    }
   ],
   "source": [
    "model = init_two_layer_convnet(filter_size=7)\n",
    "trainer = ClassifierTrainer()\n",
    "best_model, loss_history, train_acc_history, val_acc_history = trainer.train(\n",
    "          X_train, y_train, X_val, y_val, model, two_layer_convnet,\n",
    "          reg=0.001, momentum=0.9, learning_rate=0.0001, batch_size=50, num_epochs=1,\n",
    "          acc_frequency=50, verbose=True)"
   ]
  },
  {
   "cell_type": "markdown",
   "metadata": {},
   "source": [
    "# 可视化权重值\n",
    "我们可以把第一个卷积层拿到的权重，拿出来可视化一下。如果是训练一切正常，那你应该能看到不同颜色和方向、边缘的图案。"
   ]
  },
  {
   "cell_type": "code",
   "execution_count": 17,
   "metadata": {},
   "outputs": [
    {
     "data": {
      "text/plain": [
       "<matplotlib.image.AxesImage at 0x118b198d0>"
      ]
     },
     "execution_count": 17,
     "metadata": {},
     "output_type": "execute_result"
    },
    {
     "data": {
      "image/png": "[encoded data removed]",
      "text/plain": [
       "<matplotlib.figure.Figure at 0x110506a90>"
      ]
     },
     "metadata": {},
     "output_type": "display_data"
    }
   ],
   "source": [
    "from nn.vis_utils import visualize_grid\n",
    "\n",
    "grid = visualize_grid(best_model['W1'].transpose(0, 2, 3, 1))\n",
    "plt.imshow(grid.astype('uint8'))"
   ]
  },
  {
   "cell_type": "markdown",
   "metadata": {},
   "source": [
    "# Experiment!\n",
    "Experiment and try to get the best performance that you can on CIFAR-10 using a ConvNet. Here are some ideas to get you started:\n",
    "\n",
    "### Things you should try:\n",
    "- Filter size: Above we used 7x7; this makes pretty pictures but smaller filters may be more efficient\n",
    "- Number of filters: Above we used 32 filters. Do more or fewer do better?\n",
    "- Network depth: The network above has two layers of trainable parameters. Can you do better with a deeper network? You can implement alternative architectures in the file `nn/classifiers/convnet.py`. Some good architectures to try include:\n",
    "    - [conv-relu-pool]xN - conv - relu - [affine]xM - [softmax or SVM]\n",
    "    - [conv-relu-pool]XN - [affine]XM - [softmax or SVM]\n",
    "    - [conv-relu-conv-relu-pool]xN - [affine]xM - [softmax or SVM]\n",
    "\n",
    "### Tips for training\n",
    "For each network architecture that you try, you should tune the learning rate and regularization strength. When doing this there are a couple important things to keep in mind:\n",
    "\n",
    "- If the parameters are working well, you should see improvement within a few hundred iterations\n",
    "- Remember the course-to-fine approach for hyperparameter tuning: start by testing a large range of hyperparameters for just a few training iterations to find the combinations of parameters that are working at all.\n",
    "- Once you have found some sets of parameters that seem to work, search more finely around these parameters. You may need to train for more epochs.\n",
    "\n",
    "### Going above and beyond\n",
    "If you are feeling adventurous there are many other features you can implement to try and improve your performance. You are **not required** to implement any of these; however they would be good things to try for extra credit.\n",
    "\n",
    "- Alternative update steps: For the assignment we implemented SGD+momentum and RMSprop; you could try alternatives like AdaGrad or AdaDelta.\n",
    "- Other forms of regularization such as L1 or Dropout\n",
    "- Alternative activation functions such as leaky ReLU or maxout\n",
    "- Model ensembles\n",
    "- Data augmentation\n",
    "\n",
    "### What we expect\n",
    "At the very least, you should be able to train a ConvNet that gets at least 65% accuracy on the validation set. This is just a lower bound - if you are careful it should be possible to get accuracies much higher than that! Extra credit points will be awarded for particularly high-scoring models or unique approaches.\n",
    "\n",
    "You should use the space below to experiment and train your network. The final cell in this notebook should contain the training, validation, and test set accuracies for your final trained network. In this notebook you should also write an explanation of what you did, any additional features that you implemented, and any visualizations or graphs that you make in the process of training and evaluating your network.\n",
    "\n",
    "Have fun and happy training!\n",
    "\n",
    "\n",
    "# Model\n",
    "\n",
    "### Experimentation\n",
    "After manual tuning to get the rough number range for hyperparams, I ran cross-validations for low iterations on corn.\n",
    "\n",
    "I base training of incrementally trained models to make for better initialization at each stage and be able to adjust parameters at different stages in the training. This allowed for much quicker progress...\n",
    "\n",
    "### Format\n",
    "Finally I passed the 65% threshold with a model of the format\n",
    "    * [conv-relu-pool]-[conv-relu-pool]-[affine]-[relu]-[affine]-[svm]\n",
    "I ran SVM and Softmax models and with all settings (tuned on either) SVM outperformed Softmax in this formats."
   ]
  },
  {
   "cell_type": "code",
   "execution_count": 8,
   "metadata": {},
   "outputs": [
    {
     "name": "stdout",
     "output_type": "stream",
     "text": [
      "Sanity check loss (no regularization):  9.07812640504\n",
      "Sanity check loss (with regularization):  1338.74079638\n",
      "W1 max relative error: 1.175510e-06\n",
      "W2 max relative error: 4.023119e-07\n",
      "W3 max relative error: 6.078274e-03\n",
      "W4 max relative error: 8.864741e-03\n",
      "b1 max relative error: 1.756967e-08\n",
      "b2 max relative error: 3.383135e-09\n",
      "b3 max relative error: 4.025342e-08\n",
      "b4 max relative error: 5.139782e-10\n",
      "starting iteration  0\n",
      "Finished epoch 0 / 10: cost 112.900922, train: 0.140000, val 0.112000, lr 1.000000e-04\n",
      "Finished epoch 1 / 10: cost 155.226098, train: 0.120000, val 0.105000, lr 9.500000e-05\n",
      "Finished epoch 2 / 10: cost 50.397387, train: 0.180000, val 0.103000, lr 9.025000e-05\n",
      "starting iteration  10\n",
      "Finished epoch 3 / 10: cost 10.530897, train: 0.300000, val 0.105000, lr 8.573750e-05\n",
      "Finished epoch 4 / 10: cost 8.600551, train: 0.260000, val 0.105000, lr 8.145062e-05\n",
      "starting iteration  20\n",
      "Finished epoch 5 / 10: cost 7.472381, train: 0.200000, val 0.104000, lr 7.737809e-05\n",
      "Finished epoch 6 / 10: cost 8.334688, train: 0.240000, val 0.100000, lr 7.350919e-05\n",
      "starting iteration  30\n",
      "Finished epoch 7 / 10: cost 7.168265, train: 0.200000, val 0.099000, lr 6.983373e-05\n",
      "Finished epoch 8 / 10: cost 8.247624, train: 0.200000, val 0.098000, lr 6.634204e-05\n",
      "starting iteration  40\n",
      "Finished epoch 9 / 10: cost 8.138461, train: 0.240000, val 0.106000, lr 6.302494e-05\n",
      "Finished epoch 10 / 10: cost 7.732231, train: 0.260000, val 0.095000, lr 5.987369e-05\n",
      "finished optimization. best validation accuracy: 0.112000\n",
      "starting iteration  0\n",
      "Finished epoch 0 / 1: cost 256.947813, train: 0.100000, val 0.126000, lr 5.000000e-05\n",
      "starting iteration  10\n",
      "starting iteration  20\n",
      "starting iteration  30\n",
      "starting iteration  40\n",
      "starting iteration  50\n",
      "Finished epoch 0 / 1: cost 239.993287, train: 0.279000, val 0.256000, lr 5.000000e-05\n",
      "starting iteration  60\n",
      "starting iteration  70\n",
      "starting iteration  80\n",
      "starting iteration  90\n",
      "starting iteration  100\n",
      "Finished epoch 0 / 1: cost 232.275271, train: 0.311000, val 0.299000, lr 5.000000e-05\n",
      "starting iteration  110\n",
      "starting iteration  120\n",
      "starting iteration  130\n",
      "starting iteration  140\n",
      "starting iteration  150\n",
      "Finished epoch 0 / 1: cost 227.697579, train: 0.347000, val 0.355000, lr 5.000000e-05\n",
      "starting iteration  160\n",
      "starting iteration  170\n",
      "starting iteration  180\n",
      "starting iteration  190\n",
      "starting iteration  200\n",
      "Finished epoch 0 / 1: cost 221.247640, train: 0.373000, val 0.376000, lr 5.000000e-05\n",
      "starting iteration  210\n",
      "starting iteration  220\n",
      "starting iteration  230\n",
      "starting iteration  240\n",
      "starting iteration  250\n",
      "Finished epoch 0 / 1: cost 217.452615, train: 0.401000, val 0.389000, lr 5.000000e-05\n",
      "starting iteration  260\n",
      "starting iteration  270\n",
      "starting iteration  280\n",
      "starting iteration  290\n",
      "starting iteration  300\n",
      "Finished epoch 0 / 1: cost 210.564200, train: 0.399000, val 0.403000, lr 5.000000e-05\n",
      "starting iteration  310\n",
      "starting iteration  320\n",
      "starting iteration  330\n",
      "starting iteration  340\n",
      "starting iteration  350\n",
      "Finished epoch 0 / 1: cost 205.200113, train: 0.420000, val 0.413000, lr 5.000000e-05\n",
      "starting iteration  360\n",
      "starting iteration  370\n",
      "starting iteration  380\n",
      "starting iteration  390\n",
      "starting iteration  400\n",
      "Finished epoch 0 / 1: cost 201.261938, train: 0.438000, val 0.435000, lr 5.000000e-05\n",
      "starting iteration  410\n",
      "starting iteration  420\n",
      "starting iteration  430\n",
      "starting iteration  440\n",
      "starting iteration  450\n",
      "Finished epoch 0 / 1: cost 194.731383, train: 0.461000, val 0.440000, lr 5.000000e-05\n",
      "starting iteration  460\n",
      "starting iteration  470\n",
      "starting iteration  480\n",
      "starting iteration  490\n",
      "starting iteration  500\n",
      "Finished epoch 0 / 1: cost 190.211307, train: 0.458000, val 0.456000, lr 5.000000e-05\n",
      "starting iteration  510\n",
      "starting iteration  520\n",
      "starting iteration  530\n",
      "starting iteration  540\n",
      "starting iteration  550\n",
      "Finished epoch 0 / 1: cost 185.626986, train: 0.465000, val 0.455000, lr 5.000000e-05\n",
      "starting iteration  560\n",
      "starting iteration  570\n",
      "starting iteration  580\n",
      "starting iteration  590\n",
      "starting iteration  600\n",
      "Finished epoch 0 / 1: cost 180.702342, train: 0.441000, val 0.447000, lr 5.000000e-05\n",
      "starting iteration  610\n",
      "starting iteration  620\n",
      "starting iteration  630\n",
      "starting iteration  640\n",
      "starting iteration  650\n",
      "Finished epoch 0 / 1: cost 176.395718, train: 0.492000, val 0.462000, lr 5.000000e-05\n",
      "starting iteration  660\n",
      "starting iteration  670\n",
      "starting iteration  680\n",
      "starting iteration  690\n",
      "starting iteration  700\n",
      "Finished epoch 0 / 1: cost 172.533069, train: 0.474000, val 0.464000, lr 5.000000e-05\n",
      "starting iteration  710\n",
      "starting iteration  720\n",
      "starting iteration  730\n",
      "starting iteration  740\n",
      "starting iteration  750\n",
      "Finished epoch 0 / 1: cost 167.909728, train: 0.485000, val 0.485000, lr 5.000000e-05\n",
      "starting iteration  760\n",
      "starting iteration  770\n",
      "starting iteration  780\n",
      "starting iteration  790\n",
      "starting iteration  800\n",
      "Finished epoch 0 / 1: cost 164.084062, train: 0.497000, val 0.486000, lr 5.000000e-05\n",
      "starting iteration  810\n",
      "starting iteration  820\n",
      "starting iteration  830\n",
      "starting iteration  840\n",
      "starting iteration  850\n",
      "Finished epoch 0 / 1: cost 160.133955, train: 0.454000, val 0.514000, lr 5.000000e-05\n",
      "starting iteration  860\n",
      "starting iteration  870\n",
      "starting iteration  880\n",
      "starting iteration  890\n",
      "starting iteration  900\n",
      "Finished epoch 0 / 1: cost 155.581273, train: 0.504000, val 0.494000, lr 5.000000e-05\n",
      "starting iteration  910\n",
      "starting iteration  920\n",
      "starting iteration  930\n",
      "starting iteration  940\n",
      "starting iteration  950\n",
      "Finished epoch 0 / 1: cost 152.044799, train: 0.497000, val 0.506000, lr 5.000000e-05\n",
      "starting iteration  960\n",
      "starting iteration  970\n",
      "Finished epoch 1 / 1: cost 149.422164, train: 0.482000, val 0.507000, lr 4.750000e-05\n",
      "finished optimization. best validation accuracy: 0.514000\n"
     ]
    },
    {
     "data": {
      "image/png": "[encoded data removed]",
      "text/plain": [
       "<matplotlib.figure.Figure at 0x10e0e8590>"
      ]
     },
     "metadata": {},
     "output_type": "display_data"
    }
   ],
   "source": [
    "# Some checks to make sure my model is reasonable and\n",
    "# produces proper learning plots on the first few epochs\n",
    "\n",
    "# Loss check\n",
    "model = init_supercool_convnet(weight_scale = 5e-2)\n",
    "X = np.random.randn(100, 3, 32, 32)\n",
    "y = np.random.randint(10, size=100)\n",
    "loss, _ = supercool_convnet(X, model, y, reg=0)\n",
    "# Sanity check: Loss should be about log(10) = 2.3026\n",
    "print 'Sanity check loss (no regularization): ', loss\n",
    "# Sanity check: Loss should go up when you add regularization\n",
    "loss, _ = supercool_convnet(X, model, y, reg=1)\n",
    "print 'Sanity check loss (with regularization): ', loss\n",
    "\n",
    "# Gradient check\n",
    "num_inputs = 2\n",
    "input_shape = (3, 16, 16)\n",
    "reg = 0.0\n",
    "num_classes = 10\n",
    "X = np.random.randn(num_inputs, *input_shape)\n",
    "y = np.random.randint(num_classes, size=num_inputs)\n",
    "model = init_supercool_convnet(num_filters=3, filter_size=3, input_shape=input_shape)\n",
    "loss, grads = supercool_convnet(X, model, y)\n",
    "for param_name in sorted(grads):\n",
    "    f = lambda _: supercool_convnet(X, model, y)[0]\n",
    "    param_grad_num = eval_numerical_gradient(f, model[param_name], verbose=False, h=1e-6)\n",
    "    e = rel_error(param_grad_num, grads[param_name])\n",
    "    print '%s max relative error: %e' % (param_name, rel_error(param_grad_num, grads[param_name]))\n",
    "\n",
    "# Make sure we can overfit...\n",
    "model = init_supercool_convnet(weight_scale=5e-2, bias_scale=0, filter_size=3) # weight_scale=5e-2; tune to 3e-2 to make this work\n",
    "trainer = ClassifierTrainer()\n",
    "best_model, loss_history, train_acc_history, val_acc_history = trainer.train(\n",
    "          X_train[:50], y_train[:50], X_val, y_val, model, supercool_convnet,\n",
    "          reg=0.001, momentum=0.9, learning_rate=0.0001, batch_size=10, num_epochs=10, # change to 20 epochs\n",
    "          verbose=True) # batch size 40-100\n",
    "\n",
    "model = init_supercool_convnet(weight_scale=3e-2, bias_scale=0, filter_size=3)\n",
    "\n",
    "# with open('best_model.pkl', 'rb') as f:\n",
    "#     model = cPickle.load(f)\n",
    "\n",
    "trainer = ClassifierTrainer()\n",
    "best_model, loss_history, train_acc_history, val_acc_history = trainer.train(\n",
    "          X_train, y_train, X_val, y_val, model, supercool_convnet,\n",
    "          reg=0.5, momentum=0.9, learning_rate=5e-5, batch_size=50, num_epochs=1, # change to 20 epochs\n",
    "          verbose=True, acc_frequency=50) # batch size 40-100\n",
    "\n",
    "plt.subplot(2, 1, 1)\n",
    "plt.plot(loss_history)\n",
    "plt.xlabel('iteration')\n",
    "plt.ylabel('loss')\n",
    "\n",
    "plt.subplot(2, 1, 2)\n",
    "plt.plot(train_acc_history)\n",
    "plt.plot(val_acc_history)\n",
    "plt.legend(['train', 'val'], loc='upper left')\n",
    "plt.xlabel('epoch')\n",
    "plt.ylabel('accuracy')\n",
    "plt.show()\n",
    "\n"
   ]
  },
  {
   "cell_type": "markdown",
   "metadata": {},
   "source": [
    "### Learnings\n",
    "Noting that there is almost no gap (though pretty good rates), I trained incremental models with decreasing regularization rates beginning with 0.04."
   ]
  },
  {
   "cell_type": "markdown",
   "metadata": {},
   "source": [
    "# Final model\n",
    "Clearly, there is a lot more room for tuning, time permitting. This model doesn't produce a super pretty gap, but it passed the required threshold.\n",
    "\n",
    "### 0.684000 accuracy on validation set\n",
    "### 0.706000 accuracy on training set\n",
    "### 0.667000 accuracy on testing set"
   ]
  },
  {
   "cell_type": "code",
   "execution_count": 37,
   "metadata": {},
   "outputs": [
    {
     "name": "stdout",
     "output_type": "stream",
     "text": [
      "Test accuracy:  0.667\n"
     ]
    }
   ],
   "source": [
    "import cPickle\n",
    "\n",
    "with open('best_model_2.pkl', 'rb') as f:\n",
    "    best_model = cPickle.load(f)\n",
    "\n",
    "# print X_val.shape\n",
    "# print X_test.shape\n",
    "\n",
    "scores_test = supercool_convnet(X_test.transpose(0, 3, 1, 2) , best_model)\n",
    "print 'Test accuracy: ', np.mean(np.argmax(scores_test, axis=1) == y_test)"
   ]
  },
  {
   "cell_type": "code",
   "execution_count": null,
   "metadata": {},
   "outputs": [],
   "source": []
  }
 ],
 "metadata": {
  "kernelspec": {
   "display_name": "Python 3",
   "language": "python",
   "name": "python3"
  },
  "language_info": {
   "codemirror_mode": {
    "name": "ipython",
    "version": 3
   },
   "file_extension": ".py",
   "mimetype": "text/x-python",
   "name": "python",
   "nbconvert_exporter": "python",
   "pygments_lexer": "ipython3",
   "version": "3.5.3"
  }
 },
 "nbformat": 4,
 "nbformat_minor": 1
}
